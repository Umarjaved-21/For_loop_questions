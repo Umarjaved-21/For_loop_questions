{
 "cells": [
  {
   "cell_type": "markdown",
   "id": "466ee768-d252-46bc-a752-d9b257af4957",
   "metadata": {},
   "source": [
    "\n",
    "\n",
    "For loop based assingment \n"
   ]
  },
  {
   "cell_type": "code",
   "execution_count": 2,
   "id": "9ca4f845-91a2-47fb-aef1-990dec602edb",
   "metadata": {},
   "outputs": [
    {
     "name": "stdout",
     "output_type": "stream",
     "text": [
      "1\n",
      "2\n",
      "3\n",
      "4\n",
      "5\n",
      "6\n",
      "7\n",
      "8\n",
      "9\n",
      "10\n"
     ]
    }
   ],
   "source": [
    "#1. Write a Python program to print the numbers from 1 to 10 using a `for` loop.\n",
    "\n",
    "for i in range(1,11):\n",
    "    print(i)"
   ]
  },
  {
   "cell_type": "code",
   "execution_count": 3,
   "id": "b9d187f6-2a41-4763-b11f-e5df67e54117",
   "metadata": {},
   "outputs": [
    {
     "name": "stdout",
     "output_type": "stream",
     "text": [
      "15\n"
     ]
    }
   ],
   "source": [
    "#2. Create a program that calculates the sum of all numbers in a list using a `for` loop.\n",
    "numbers = [1,2,3,4,5]\n",
    "\n",
    "sum_of_numbers = 0\n",
    "\n",
    "for i in numbers:\n",
    "    sum_of_numbers += i\n",
    "    \n",
    "print(sum_of_numbers)"
   ]
  },
  {
   "cell_type": "code",
   "execution_count": 10,
   "id": "36b3e91b-6428-426d-b053-f370c1df8674",
   "metadata": {},
   "outputs": [
    {
     "name": "stdout",
     "output_type": "stream",
     "text": [
      "ramu\n"
     ]
    }
   ],
   "source": [
    "#3. Write a program to print the characters of a string in reverse order using a `for`\n",
    "\n",
    "string = \"umar\"\n",
    "\n",
    "reversed_string = \"\"\n",
    "\n",
    "for i in string:\n",
    "    reversed_string = string[::-1]\n",
    "    \n",
    "print(reversed_string)"
   ]
  },
  {
   "cell_type": "code",
   "execution_count": 12,
   "id": "2909253e-f48b-46ea-8060-e4f85a08134c",
   "metadata": {},
   "outputs": [
    {
     "name": "stdin",
     "output_type": "stream",
     "text": [
      "Enter a positive integer:  5\n"
     ]
    },
    {
     "name": "stdout",
     "output_type": "stream",
     "text": [
      "The factorial of 5 is 120\n"
     ]
    }
   ],
   "source": [
    "#4. Develop a program that finds the factorial of a given number using a `for` loop.\n",
    "\n",
    "n = int(input(\"Enter a positive integer: \"))\n",
    "\n",
    "factorial = 1\n",
    "\n",
    "for i in range(1, n + 1):\n",
    "    factorial *= i\n",
    "\n",
    "print(f\"The factorial of {n} is {factorial}\")\n"
   ]
  },
  {
   "cell_type": "code",
   "execution_count": 24,
   "id": "605d567a-cc03-4eb2-a5aa-340f1ad20530",
   "metadata": {},
   "outputs": [
    {
     "name": "stdin",
     "output_type": "stream",
     "text": [
      "Enter a digit 15\n"
     ]
    },
    {
     "name": "stdout",
     "output_type": "stream",
     "text": [
      "15 x 1 = 15\n",
      "15 x 2 = 30\n",
      "15 x 3 = 45\n",
      "15 x 4 = 60\n",
      "15 x 5 = 75\n",
      "15 x 6 = 90\n",
      "15 x 7 = 105\n",
      "15 x 8 = 120\n",
      "15 x 9 = 135\n",
      "15 x 10 = 150\n"
     ]
    }
   ],
   "source": [
    "# 5.Create a program to print the multiplication table of a given number using a `for` loop.\n",
    "\n",
    "user_input = int(input(\"Enter a digit\"))\n",
    "\n",
    "table_range = 10\n",
    "\n",
    "for i in range(1, table_range + 1):\n",
    "    product = user_input * i\n",
    "    \n",
    "    print(f\"{user_input} x {i} = {product}\")"
   ]
  },
  {
   "cell_type": "code",
   "execution_count": 16,
   "id": "53280d1e-abdd-488c-a284-12dacd29e6b9",
   "metadata": {},
   "outputs": [
    {
     "name": "stdout",
     "output_type": "stream",
     "text": [
      "there are 4 even number\n",
      "there are 4 odd number\n"
     ]
    }
   ],
   "source": [
    "#6. Write a program that counts the number of even and odd numbers in a list using a `for` loop.\n",
    "\n",
    "numbers = [1,2,3,4,5,6,7,8]\n",
    "\n",
    "even_count = 0\n",
    "odd_count = 0\n",
    "\n",
    "for num in numbers:\n",
    "    if num %2 == 0:\n",
    "        even_count += 1\n",
    "    elif num %2 != 0:\n",
    "        odd_count += 1\n",
    "print(\"there are\",even_count,\"even number\")\n",
    "print(\"there are\",odd_count,\"odd number\")"
   ]
  },
  {
   "cell_type": "code",
   "execution_count": 22,
   "id": "2817631d-d9c0-4f6f-a33d-25f92f50fca2",
   "metadata": {},
   "outputs": [
    {
     "name": "stdout",
     "output_type": "stream",
     "text": [
      "the square of 1 is 1\n",
      "the square of 2 is 4\n",
      "the square of 3 is 9\n",
      "the square of 4 is 16\n",
      "the square of 5 is 25\n"
     ]
    }
   ],
   "source": [
    "# 7. Develop a program that prints the squares of numbers from 1 to 5 using a `for` loop.\n",
    "\n",
    "\n",
    "for i in range(1,6):\n",
    "    square = i ** 2\n",
    "    print(f\"the square of {i} is {square}\")"
   ]
  },
  {
   "cell_type": "code",
   "execution_count": 26,
   "id": "54448605-5515-4d0a-addc-45a6386e080c",
   "metadata": {},
   "outputs": [
    {
     "name": "stdout",
     "output_type": "stream",
     "text": [
      "The length of string is:  10\n"
     ]
    }
   ],
   "source": [
    "# 8. Create a program to find the length of a string without using the `len()` function.\n",
    "\n",
    "my_string = \"umar javed\"\n",
    "\n",
    "length = 0\n",
    "\n",
    "for char in my_string:\n",
    "    length += 1\n",
    "print(\"The length of string is: \",length)"
   ]
  },
  {
   "cell_type": "code",
   "execution_count": 30,
   "id": "41ac6b8a-11b4-4a5e-954f-c1a6821e14e6",
   "metadata": {},
   "outputs": [
    {
     "name": "stdout",
     "output_type": "stream",
     "text": [
      "45.0\n"
     ]
    }
   ],
   "source": [
    "# 9. Write a program that calculates the average of a list of numbers using a `for` loop.\n",
    "\n",
    "numbers = [20,30,40,50,60,70]\n",
    "\n",
    "count = 0\n",
    "total_numbers = 0\n",
    "\n",
    "for i in numbers:\n",
    "    total_numbers += i\n",
    "    count += 1\n",
    "    \n",
    "average = total_numbers/ count\n",
    "print(average)"
   ]
  },
  {
   "cell_type": "code",
   "execution_count": 35,
   "id": "a7ee4994-60a2-4a02-8c62-6ab58a66462f",
   "metadata": {},
   "outputs": [
    {
     "name": "stdin",
     "output_type": "stream",
     "text": [
      "Enter the number of Fibonacci numbers to generate:  8\n"
     ]
    },
    {
     "name": "stdout",
     "output_type": "stream",
     "text": [
      "Fibonacci sequence:\n",
      "0\n",
      "1\n",
      "2\n",
      "3\n",
      "5\n",
      "8\n",
      "13\n"
     ]
    }
   ],
   "source": [
    "# 10.  Develop a program that prints the first `n` Fibonacci numbers using a `for` loop.\n",
    "\n",
    "n = int(input(\"Enter the number of Fibonacci numbers to generate: \"))\n",
    "\n",
    "fibonacci_1 = 0\n",
    "fibonacci_2 = 1\n",
    "\n",
    "if n >= 1:\n",
    "    print(\"Fibonacci sequence:\")\n",
    "    print(fibonacci_1)  \n",
    "\n",
    "for i in range(2, n):\n",
    "    next_fibonacci = fibonacci_1 + fibonacci_2\n",
    "    print(next_fibonacci)\n",
    "    fibonacci_1 = fibonacci_2\n",
    "    fibonacci_2 = next_fibonacci\n"
   ]
  },
  {
   "cell_type": "code",
   "execution_count": 3,
   "id": "9c8cc682-56c5-4f3f-9d1c-ea90a8e04182",
   "metadata": {},
   "outputs": [
    {
     "name": "stdout",
     "output_type": "stream",
     "text": [
      "The list contains duplicates.\n"
     ]
    }
   ],
   "source": [
    "#11.  Write a program to check if a given list contains any duplicates using a `for` loop.\n",
    "\n",
    "given_list = [1,2,2,3,4,3,5]\n",
    "\n",
    "duplicate_element = set()\n",
    "\n",
    "has_duplicates = False\n",
    "\n",
    "for num in given_list:\n",
    "    if num in duplicate_element:\n",
    "        has_duplicates = True\n",
    "        break\n",
    "    else:\n",
    "        duplicate_element.add(num)\n",
    "        \n",
    "if has_duplicates:\n",
    "    print(\"The list contains duplicates.\")\n",
    "else:\n",
    "    print(\"The list does not contain duplicates.\")"
   ]
  },
  {
   "cell_type": "code",
   "execution_count": 27,
   "id": "53774b51-bdcf-42d0-9c10-27c0e4ce2539",
   "metadata": {},
   "outputs": [
    {
     "name": "stdin",
     "output_type": "stream",
     "text": [
      "Enter the start of a range 2\n",
      "Enter a end of a range 10\n"
     ]
    },
    {
     "name": "stdout",
     "output_type": "stream",
     "text": [
      "Prime numbers in the range 2 to 10 are:\n",
      "2\n",
      "3\n",
      "5\n",
      "7\n"
     ]
    }
   ],
   "source": [
    "# 12. Create a program that prints the prime numbers in a given range using a `for` loop.\n",
    "\n",
    "start = int(input(\"Enter the start of a range\"))\n",
    "end = int(input(\"Enter a end of a range\"))\n",
    "\n",
    "print(\"Prime numbers in the range\",start,\"to\",end,\"are:\")\n",
    "\n",
    "for num in range(start,end + 1):\n",
    "    if num > 1:\n",
    "        is_prime = True\n",
    "        for i in range(2, int(num ** 0.5) + 1):\n",
    "            if num % i == 0:\n",
    "                is_prime = False\n",
    "                break\n",
    "        if is_prime:\n",
    "            print(num)"
   ]
  },
  {
   "cell_type": "code",
   "execution_count": 15,
   "id": "b5aaf1b7-bbb0-4ba9-99d5-16ecc92aa74c",
   "metadata": {},
   "outputs": [
    {
     "name": "stdin",
     "output_type": "stream",
     "text": [
      "Enter a string umar javed\n"
     ]
    },
    {
     "name": "stdout",
     "output_type": "stream",
     "text": [
      "number of vowels prsentin the string are: 4\n"
     ]
    }
   ],
   "source": [
    "# 13. Develop a program that counts the number of vowels in a string using a `for` loop.\n",
    "\n",
    "input_string = input(\"Enter a string\")\n",
    "\n",
    "vowel_count = 0\n",
    "\n",
    "vowels = set(\"aeiou\")\n",
    "\n",
    "for i in input_string:\n",
    "    if i in vowels:\n",
    "        vowel_count += 1\n",
    "print(\"number of vowels prsentin the string are:\",vowel_count)\n",
    "        "
   ]
  },
  {
   "cell_type": "code",
   "execution_count": 18,
   "id": "cf1f72d5-39a6-46a9-8e18-45fc67c115d3",
   "metadata": {},
   "outputs": [
    {
     "name": "stdout",
     "output_type": "stream",
     "text": [
      "50\n"
     ]
    }
   ],
   "source": [
    "# 14. Write a program to find the maximum element in a 2D list using a nested `for` loop.\n",
    "\n",
    "matrix = [\n",
    "    [5,10,15],\n",
    "    [20,50,30],\n",
    "    [35,40,45]\n",
    "]\n",
    "\n",
    "max_element = [0][0]\n",
    "\n",
    "for row in matrix:\n",
    "    for element in row:\n",
    "        if element > max_element:\n",
    "            max_element = element\n",
    "print(max_element)"
   ]
  },
  {
   "cell_type": "code",
   "execution_count": 19,
   "id": "e28f02b8-81fb-4ee8-aa69-12c627b2ea7c",
   "metadata": {},
   "outputs": [
    {
     "name": "stdout",
     "output_type": "stream",
     "text": [
      "[1, 2, 3, 4, 6, 7, 8, 9]\n"
     ]
    }
   ],
   "source": [
    "# 15. Create a program that removes all occurrences of a specific element from a list using a `for` loop.\n",
    "\n",
    "\n",
    "my_list = [1,2,3,4,5,6,7,8,9]\n",
    "\n",
    "remove_element = 5\n",
    "\n",
    "for i in my_list:\n",
    "    if i == remove_element:\n",
    "        my_list.remove(i)\n",
    "        \n",
    "print(my_list)"
   ]
  },
  {
   "cell_type": "code",
   "execution_count": 24,
   "id": "2f07cad5-1423-4100-b571-30b9d8abc694",
   "metadata": {},
   "outputs": [
    {
     "name": "stdout",
     "output_type": "stream",
     "text": [
      "1 x 1 = 1\n",
      "1 x 2 = 2\n",
      "1 x 3 = 3\n",
      "1 x 4 = 4\n",
      "1 x 5 = 5\n",
      "1 x 6 = 6\n",
      "1 x 7 = 7\n",
      "1 x 8 = 8\n",
      "1 x 9 = 9\n",
      "1 x 10 = 10\n",
      "\n",
      "2 x 1 = 2\n",
      "2 x 2 = 4\n",
      "2 x 3 = 6\n",
      "2 x 4 = 8\n",
      "2 x 5 = 10\n",
      "2 x 6 = 12\n",
      "2 x 7 = 14\n",
      "2 x 8 = 16\n",
      "2 x 9 = 18\n",
      "2 x 10 = 20\n",
      "\n",
      "3 x 1 = 3\n",
      "3 x 2 = 6\n",
      "3 x 3 = 9\n",
      "3 x 4 = 12\n",
      "3 x 5 = 15\n",
      "3 x 6 = 18\n",
      "3 x 7 = 21\n",
      "3 x 8 = 24\n",
      "3 x 9 = 27\n",
      "3 x 10 = 30\n",
      "\n",
      "4 x 1 = 4\n",
      "4 x 2 = 8\n",
      "4 x 3 = 12\n",
      "4 x 4 = 16\n",
      "4 x 5 = 20\n",
      "4 x 6 = 24\n",
      "4 x 7 = 28\n",
      "4 x 8 = 32\n",
      "4 x 9 = 36\n",
      "4 x 10 = 40\n",
      "\n",
      "5 x 1 = 5\n",
      "5 x 2 = 10\n",
      "5 x 3 = 15\n",
      "5 x 4 = 20\n",
      "5 x 5 = 25\n",
      "5 x 6 = 30\n",
      "5 x 7 = 35\n",
      "5 x 8 = 40\n",
      "5 x 9 = 45\n",
      "5 x 10 = 50\n",
      "\n"
     ]
    }
   ],
   "source": [
    "# 16. Develop a program that generates a multiplication table for numbers from 1 to 5 using a nested `for` loop.\n",
    "\n",
    "\n",
    "start = 1\n",
    "end = 5\n",
    "\n",
    "for i in range(start,end + 1):\n",
    "    for j in range(1,11):\n",
    "        result = i * j\n",
    "        print(f\"{i} x {j} = {result}\")\n",
    "    print()"
   ]
  },
  {
   "cell_type": "code",
   "execution_count": 25,
   "id": "9b71d542-ecd9-47f2-bdf8-01892b79b1aa",
   "metadata": {},
   "outputs": [
    {
     "name": "stdout",
     "output_type": "stream",
     "text": [
      "Fahrenheit Temperatures: [32, 68, 77, 104, 212]\n",
      "Celsius Temperatures: [0.0, 20.0, 25.0, 40.0, 100.0]\n"
     ]
    }
   ],
   "source": [
    "# 17. Write a program that converts a list of Fahrenheit temperatures to Celsius using a `for` loop.\n",
    "\n",
    "fahrenheit_temperatures = [32, 68, 77, 104, 212]\n",
    "\n",
    "celsius_temperatures = []\n",
    "\n",
    "for fahrenheit in fahrenheit_temperatures:\n",
    "    \n",
    "    celsius = (fahrenheit - 32) * 5/9\n",
    "    celsius_temperatures.append(celsius)\n",
    "\n",
    "\n",
    "print(\"Fahrenheit Temperatures:\", fahrenheit_temperatures)\n",
    "print(\"Celsius Temperatures:\", celsius_temperatures)\n"
   ]
  },
  {
   "cell_type": "code",
   "execution_count": 2,
   "id": "445788bd-3fb5-4b98-a55f-66f545b26a7b",
   "metadata": {},
   "outputs": [
    {
     "name": "stdout",
     "output_type": "stream",
     "text": [
      "[3, 4, 5]\n"
     ]
    }
   ],
   "source": [
    "# 18. Create a program to print the common elements from two lists using a `for` loop.\n",
    "\n",
    "list1 = [1,2,3,4,5]\n",
    "list2 = [3,4,5,6,7,8]\n",
    "\n",
    "common_elemnt = []\n",
    "\n",
    "for element in list1:\n",
    "    if element in list2:\n",
    "        common_elemnt.append(element)\n",
    "print(common_elemnt)"
   ]
  },
  {
   "cell_type": "code",
   "execution_count": 3,
   "id": "c726e34b-c6b9-4581-8757-736ee884e8c8",
   "metadata": {},
   "outputs": [
    {
     "name": "stdout",
     "output_type": "stream",
     "text": [
      "* \n",
      "* * \n",
      "* * * \n",
      "* * * * \n",
      "* * * * * \n"
     ]
    }
   ],
   "source": [
    "# 19. Develop a program that prints the pattern of right-angled triangles using a `for` loop. Use ‘*’ to draw the pattern\n",
    "\n",
    "num_in_rows = 5\n",
    "\n",
    "for i in range(1, num_in_rows +1):\n",
    "    for j in range(i):\n",
    "        print('*',end = ' ')\n",
    "    print()"
   ]
  },
  {
   "cell_type": "code",
   "execution_count": 20,
   "id": "c138a3fd-e60a-4a95-95ba-26d30453e2c8",
   "metadata": {},
   "outputs": [
    {
     "name": "stdin",
     "output_type": "stream",
     "text": [
      "Enter the first number: 7\n",
      "Enter a secong number  8\n"
     ]
    },
    {
     "name": "stdout",
     "output_type": "stream",
     "text": [
      "The Greatest Common Divisor (GCD) of 7 and 8 is 1\n"
     ]
    }
   ],
   "source": [
    "# 20. Write a program to find the greatest common divisor (GCD) of two numbers using a `for` loop.\n",
    "\n",
    "num1 = int(input(\"Enter the first number:\"))\n",
    "num2 = int(input(\"Enter a secong number \"))\n",
    "\n",
    "min_number = min(num1,num2)\n",
    "\n",
    "gcd = 1\n",
    "\n",
    "for i in range(1, min_number + 1):\n",
    "    if num1 % i == 0 and num2 % i == 0:\n",
    "        gcd = i\n",
    "        \n",
    "print(\"The Greatest Common Divisor (GCD) of\", num1, \"and\", num2, \"is\", gcd)\n",
    "                 \n",
    "                 "
   ]
  },
  {
   "cell_type": "code",
   "execution_count": 32,
   "id": "e6cbc5d5-096f-4190-ba28-90e94f0c5243",
   "metadata": {},
   "outputs": [
    {
     "name": "stdout",
     "output_type": "stream",
     "text": [
      "[6, 15, 24]\n"
     ]
    }
   ],
   "source": [
    "# 21. Create a program that calculates the sum of the digits of numbers in a list using a list comprehension.\n",
    "\n",
    "numbers = [123,456,789]\n",
    "\n",
    "sum_of_num = [sum(int(digit) for digit in str(number)) for number in numbers]\n",
    "print(sum_of_num)"
   ]
  },
  {
   "cell_type": "code",
   "execution_count": 5,
   "id": "aabad258-7f49-4a2d-810f-1c5dcc9d82f2",
   "metadata": {},
   "outputs": [
    {
     "name": "stdin",
     "output_type": "stream",
     "text": [
      "Enter a number 12\n"
     ]
    },
    {
     "name": "stdout",
     "output_type": "stream",
     "text": [
      "Prime factors of 1: [2, 2, 3]\n"
     ]
    }
   ],
   "source": [
    "# 22. Write a program to find the prime factors of a given number using a `for` loop and list comprehension.\n",
    "\n",
    "# using for loop\n",
    "\n",
    "prime_num = int(input(\"Enter a number\"))\n",
    "\n",
    "prime_factor = []\n",
    "\n",
    "for factor in range(2,prime_num + 1):\n",
    "    while prime_num % factor == 0:\n",
    "        prime_factor.append(factor)\n",
    "        prime_num //= factor\n",
    "        \n",
    "if len(prime_factor) == 0:\n",
    "    print(f\"{prime_num} has no prime factors.\")\n",
    "else:\n",
    "    print(f\"Prime factors of {prime_num}: {prime_factor}\")"
   ]
  },
  {
   "cell_type": "code",
   "execution_count": 4,
   "id": "edde8a8e-861f-41f0-adc3-c1bada4f41a8",
   "metadata": {},
   "outputs": [
    {
     "name": "stdout",
     "output_type": "stream",
     "text": [
      "unique_element:  [1, 2, 3, 4, 5, 6, 7]\n"
     ]
    }
   ],
   "source": [
    "# 23 Develop a program that extracts unique elements from a list and stores them in a new list using a list\n",
    "# comprehension\n",
    "\n",
    "original_list = [1, 2, 2, 3, 4, 4, 5, 6, 6, 7]\n",
    "\n",
    "unique_element = [x for i, x in enumerate(original_list) if x not in original_list[:i]]\n",
    "\n",
    "print(\"unique_element: \", unique_element)"
   ]
  },
  {
   "cell_type": "code",
   "execution_count": 2,
   "id": "2050a93b-83d1-4c36-9416-7788f3c5b429",
   "metadata": {},
   "outputs": [
    {
     "name": "stdin",
     "output_type": "stream",
     "text": [
      "Enter thee upper limit 10\n"
     ]
    },
    {
     "name": "stdout",
     "output_type": "stream",
     "text": [
      "the palindromic number upto 10 are [1, 2, 3, 4, 5, 6, 7, 8, 9]\n"
     ]
    }
   ],
   "source": [
    "# 24. Create a program that generates a list of all palindromic numbers up to a specified limit using a list\n",
    "# comprehension.\n",
    "\n",
    "limit = int(input(\"Enter thee upper limit\"))\n",
    "\n",
    "palindromic_num = [num for num in range(1,limit+1) if str(num) == str(num)[::-1]]\n",
    "\n",
    "print(f\"the palindromic number upto {limit} are {palindromic_num}\")"
   ]
  },
  {
   "cell_type": "code",
   "execution_count": 7,
   "id": "b2ee7fbe-39b6-4f52-b029-23214981cc2a",
   "metadata": {},
   "outputs": [
    {
     "name": "stdout",
     "output_type": "stream",
     "text": [
      "flatten list are: [1, 2, 3, 4, 5, 6, 7, 8]\n"
     ]
    }
   ],
   "source": [
    "# 25. Write a program to flatten a nested list using list comprehension.\n",
    "\n",
    "nested_list = [[1,2,3],[4,5],[6,7,8]]\n",
    "\n",
    "flattened_list = [item for sublist in nested_list for item in sublist]\n",
    "\n",
    "print(f\"flatten list are: {flattened_list}\")"
   ]
  },
  {
   "cell_type": "code",
   "execution_count": 9,
   "id": "fb936214-76f6-477a-8907-c9f76cad6d3c",
   "metadata": {},
   "outputs": [
    {
     "name": "stdout",
     "output_type": "stream",
     "text": [
      "the even numbers are [2, 4, 6, 8]\n",
      "the odd numbers are [1, 3, 5, 7, 9]\n"
     ]
    }
   ],
   "source": [
    "# 26. Develop a program that computes the sum of even and odd numbers in a list separately using list\n",
    "# comprehension.\n",
    "\n",
    "numbers = [1,2,3,4,5,6,7,8,9]\n",
    "\n",
    "even_num = [x for x in numbers if x%2 == 0]\n",
    "odd_num = [x for x in numbers if x%2 != 0]\n",
    "\n",
    "print(f\"the even numbers are {even_num}\")\n",
    "print(f\"the odd numbers are {odd_num}\")"
   ]
  },
  {
   "cell_type": "code",
   "execution_count": 13,
   "id": "d4f57ef6-46a1-4f14-88ae-ea1defea8d28",
   "metadata": {},
   "outputs": [
    {
     "name": "stdout",
     "output_type": "stream",
     "text": [
      "[1, 9, 25, 49, 81]\n"
     ]
    }
   ],
   "source": [
    "# 27. Create a program that generates a list of squares of odd numbers between 1 and 10 using list\n",
    "# comprehension.\n",
    "\n",
    "odd_num_squares = [x**2 for x in range(1,11) if x%2!= 0]\n",
    "\n",
    "print(odd_num_squares)"
   ]
  },
  {
   "cell_type": "code",
   "execution_count": 15,
   "id": "2e5542da-8d44-48f6-84a5-bd361a933080",
   "metadata": {},
   "outputs": [
    {
     "name": "stdout",
     "output_type": "stream",
     "text": [
      "{'Name': 'umar', 'Age': 20, 'City': 'Greater Noida'}\n"
     ]
    }
   ],
   "source": [
    "# 28. Write a program that combines two lists into a dictionary using list comprehension.\n",
    "\n",
    "keys = [\"Name\",\"Age\",\"City\"]\n",
    "values = [\"umar\",20,\"Greater Noida\"]\n",
    "\n",
    "dict_list = {keys[i]:values[i] for i in range(len(keys))}\n",
    "\n",
    "print(dict_list)"
   ]
  },
  {
   "cell_type": "code",
   "execution_count": 17,
   "id": "f3922159-41e2-4a58-9e54-d594f9153dc0",
   "metadata": {},
   "outputs": [
    {
     "name": "stdin",
     "output_type": "stream",
     "text": [
      "Enter a string javed\n"
     ]
    },
    {
     "name": "stdout",
     "output_type": "stream",
     "text": [
      "extracted vowels are: ['a', 'e']\n"
     ]
    }
   ],
   "source": [
    "# 29. Develop a program that extracts the vowels from a string and stores them in a list using list comprehension.\n",
    "\n",
    "input_string = input(\"Enter a string\")\n",
    "\n",
    "vowels = [x for x in input_string if x.lower() in \"aeiouAeiou\"]\n",
    "\n",
    "print(f\"extracted vowels are: {vowels}\")"
   ]
  },
  {
   "cell_type": "code",
   "execution_count": 25,
   "id": "7db7fa87-ce44-4614-b114-f34d20c3f5bb",
   "metadata": {},
   "outputs": [
    {
     "name": "stdin",
     "output_type": "stream",
     "text": [
      "Enter a string uma123\n"
     ]
    },
    {
     "name": "stdout",
     "output_type": "stream",
     "text": [
      "non-numeric character are: ['123']\n"
     ]
    }
   ],
   "source": [
    "# 30. Create a program that removes all non-numeric characters from a list of strings using list comprehension.\n",
    "\n",
    "input_string = input(\"Enter a string\")\n",
    "\n",
    "non_numeric_char = [\"\".join(x for x in input_string if x.isnumeric())]\n",
    "\n",
    "print(f\"non-numeric character are: {non_numeric_char}\")"
   ]
  },
  {
   "cell_type": "code",
   "execution_count": 1,
   "id": "0ae694d3-cca8-4897-86ac-3c00fbbe3aa4",
   "metadata": {},
   "outputs": [
    {
     "name": "stdin",
     "output_type": "stream",
     "text": [
      "Enter an upper limit for prime numbers:  10\n"
     ]
    },
    {
     "name": "stdout",
     "output_type": "stream",
     "text": [
      "Prime numbers up to 10 are: [2, 3, 5, 7]\n"
     ]
    }
   ],
   "source": [
    "# 31. Write a program to generate a list of prime numbers using the Sieve of Eratosthenes algorithm and list\n",
    "# comprehension.\n",
    "\n",
    "\n",
    "limit = int(input(\"Enter an upper limit for prime numbers: \"))\n",
    "\n",
    "sieve = [True] * (limit + 1)\n",
    "sieve[0] = sieve[1] = False\n",
    "\n",
    "for p in range(2, int(limit**0.5) + 1):\n",
    "    if sieve[p]:\n",
    "        for i in range(p * p, limit + 1, p):\n",
    "            sieve[i] = False\n",
    "\n",
    "prime_numbers = [p for p in range(2, limit + 1) if sieve[p]]\n",
    "\n",
    "print(\"Prime numbers up to\", limit, \"are:\", prime_numbers)\n"
   ]
  },
  {
   "cell_type": "code",
   "execution_count": 2,
   "id": "da79602f-da26-4d75-a646-8781d96df4c8",
   "metadata": {},
   "outputs": [
    {
     "name": "stdin",
     "output_type": "stream",
     "text": [
      "Enter a upper limit 10\n"
     ]
    },
    {
     "name": "stdout",
     "output_type": "stream",
     "text": [
      "the pythagores triplet 10 are [(3, 4, 5), (6, 8, 10)]\n"
     ]
    }
   ],
   "source": [
    "# 32. Create a program that generates a list of all Pythagorean triplet_ up to a specified limit using list\n",
    "# comprehension.\n",
    "\n",
    "limit = int(input(\"Enter a upper limit\"))\n",
    "\n",
    "Pythagorean_triplet = [(a,b,c) for a in range(1 ,limit+1) for b in range(a, limit+1) for c in range(b,limit+1) if a**2 + b**2 == c**2]\n",
    "\n",
    "print(f\"the pythagores triplet {limit} are {Pythagorean_triplet}\")"
   ]
  },
  {
   "cell_type": "code",
   "execution_count": 11,
   "id": "7dcec613-7a1b-49ee-a0d0-40c2b63ab132",
   "metadata": {},
   "outputs": [
    {
     "name": "stdout",
     "output_type": "stream",
     "text": [
      "(1, 'a')\n",
      "(1, 'b')\n",
      "(1, 'c')\n",
      "(2, 'a')\n",
      "(2, 'b')\n",
      "(2, 'c')\n",
      "(3, 'a')\n",
      "(3, 'b')\n",
      "(3, 'c')\n"
     ]
    }
   ],
   "source": [
    "# 33. Develop a program that generates a list of all possible combinations of two lists using list comprehension.\n",
    "\n",
    "list1 = [1,2,3]\n",
    "list2 = [\"a\",\"b\",\"c\"] \n",
    "\n",
    "combinations_of_list = [(x,y) for x in list1 for y in list2]\n",
    "\n",
    "for combination in combinations_of_list:\n",
    "    print(combination)"
   ]
  },
  {
   "cell_type": "code",
   "execution_count": 13,
   "id": "8af1265a-5199-4252-b1b1-e22005176169",
   "metadata": {},
   "outputs": [
    {
     "name": "stdin",
     "output_type": "stream",
     "text": [
      "Enetr a list of numbers seprated by spaces:  1 2 3 4 5 6 7\n"
     ]
    },
    {
     "name": "stdout",
     "output_type": "stream",
     "text": [
      "Mean: 4.0\n",
      "Median: 4.0\n",
      "Mode: 1.0\n"
     ]
    }
   ],
   "source": [
    "# 34. Write a program that calculates the mean, median, and mode of a list of numbers using list\n",
    "# comprehensi\n",
    "\n",
    "import statistics\n",
    "\n",
    "numbers = [float(x) for x in input(\"Enetr a list of numbers seprated by spaces: \").split()]\n",
    "\n",
    "mean = sum(numbers)/len(numbers)\n",
    "median = statistics.median(numbers)\n",
    "mode = statistics.mode(numbers)\n",
    "\n",
    "print(f\"Mean: {mean}\")\n",
    "print(f\"Median: {median}\")\n",
    "print(f\"Mode: {mode}\")"
   ]
  },
  {
   "cell_type": "code",
   "execution_count": 48,
   "id": "09f76f3c-c0d3-4427-aa14-329d361800ff",
   "metadata": {},
   "outputs": [
    {
     "name": "stdin",
     "output_type": "stream",
     "text": [
      "Enter the number of rows for Pascal's triangle:  5\n"
     ]
    },
    {
     "name": "stdout",
     "output_type": "stream",
     "text": [
      "1\n",
      "1 1\n",
      "1 2 1\n",
      "1 3 3 1\n",
      "1 4 6 4 1\n"
     ]
    }
   ],
   "source": [
    "# 35. Create a program that generates Pascal's triangle up to a specified number of rows using list\n",
    "# comprehension.\n",
    "\n",
    "def generate_pascals_triangle(n):\n",
    "    triangle = [[1]]\n",
    "    \n",
    "    for i in range(1, n):\n",
    "        row = [1] + [triangle[i-1][j-1] + triangle[i-1][j] for j in range(1, i)] + [1]\n",
    "        triangle.append(row)\n",
    "    \n",
    "    return triangle\n",
    "\n",
    "# Input the number of rows you want in Pascal's triangle\n",
    "num_rows = int(input(\"Enter the number of rows for Pascal's triangle: \"))\n",
    "\n",
    "pascals_triangle = generate_pascals_triangle(num_rows)\n",
    "\n",
    "# Print Pascal's triangle\n",
    "for row in pascals_triangle:\n",
    "    print(\" \".join(map(str, row)))\n",
    "\n"
   ]
  },
  {
   "cell_type": "code",
   "execution_count": 32,
   "id": "035fa514-5805-4b62-8f5e-9cf52a0d3ed0",
   "metadata": {},
   "outputs": [
    {
     "name": "stdout",
     "output_type": "stream",
     "text": [
      "Sum of digits of 1!: 1\n",
      "Sum of digits of 2!: 2\n",
      "Sum of digits of 3!: 6\n",
      "Sum of digits of 4!: 6\n",
      "Sum of digits of 5!: 3\n"
     ]
    }
   ],
   "source": [
    "# 36. Develop a program that calculates the sum of the digits of a factorial of numbers from 1 to 5 using list\n",
    "# comprehension\n",
    "\n",
    "def factorial(n):\n",
    "    if n == 0:\n",
    "        return 1\n",
    "    return n * factorial(n - 1)\n",
    "\n",
    "sums_of_digits = [sum(int(digit) for digit in str(factorial(i))) for i in range(1, 6)]\n",
    "\n",
    "\n",
    "for i, result in enumerate(sums_of_digits, start=1):\n",
    "    print(f\"Sum of digits of {i}!:\", result)\n"
   ]
  },
  {
   "cell_type": "code",
   "execution_count": 36,
   "id": "e0833029-338f-4fb3-a897-545d985c6004",
   "metadata": {},
   "outputs": [
    {
     "name": "stdin",
     "output_type": "stream",
     "text": [
      "Enter a sentence:  umar javed \n"
     ]
    },
    {
     "name": "stdout",
     "output_type": "stream",
     "text": [
      "The longest word in the sentence is: javed\n"
     ]
    }
   ],
   "source": [
    "# 37. Write a program that finds the longest word in a sentence using list comprehension.\n",
    "\n",
    "sentence = input(\"Enter a sentence: \")\n",
    "\n",
    "words = sentence.split()\n",
    "\n",
    "longest_word = max((word for word in words), key=len)\n",
    "\n",
    "print(\"The longest word in the sentence is:\", longest_word)\n"
   ]
  },
  {
   "cell_type": "code",
   "execution_count": 53,
   "id": "ce6dd52b-1acb-4611-977a-ad3b5d7d29d1",
   "metadata": {},
   "outputs": [
    {
     "name": "stdout",
     "output_type": "stream",
     "text": [
      "Strings with more than three vowels:\n",
      "openai\n"
     ]
    }
   ],
   "source": [
    "# 38. Create a program that filters a list of strings to include only those with more than three vowels using list\n",
    "# comprehension.\n",
    "\n",
    "def count_vowels(s):\n",
    "    vowels = \"aeiouAEIOU\"\n",
    "    return sum(1 for char in s if char in vowels)\n",
    "\n",
    "string_list = [\"hello\", \"world\", \"python\", \"programming\", \"example\", \"openai\"]\n",
    "\n",
    "filtered_strings = [s for s in string_list if count_vowels(s) > 3]\n",
    "\n",
    "print(\"Strings with more than three vowels:\")\n",
    "for s in filtered_strings:\n",
    "    print(s)\n"
   ]
  },
  {
   "cell_type": "code",
   "execution_count": 46,
   "id": "f05486fa-0e77-4fe7-b164-a652c9286dba",
   "metadata": {},
   "outputs": [
    {
     "name": "stdout",
     "output_type": "stream",
     "text": [
      "The total sum of the digits of numbers from 1 to 1000 is: 13501\n"
     ]
    }
   ],
   "source": [
    "# 39. Develop a program that calculates the sum of the digits of numbers from 1 to 1000 using list\n",
    "# comprehension.\n",
    "\n",
    "digit_sums = [sum(int(digit) for digit in str(number)) for number in range(1, 1001)]\n",
    "\n",
    "total_sum = sum(digit_sums)\n",
    "\n",
    "print(\"The total sum of the digits of numbers from 1 to 1000 is:\", total_sum)\n"
   ]
  },
  {
   "cell_type": "code",
   "execution_count": 47,
   "id": "d2ea04a5-e89e-4097-bbd6-4bb379841c04",
   "metadata": {},
   "outputs": [
    {
     "name": "stdout",
     "output_type": "stream",
     "text": [
      "Prime palindromic numbers up to 1000: [11, 101, 131, 151, 181, 191, 313, 353, 373, 383, 727, 757, 787, 797, 919, 929]\n"
     ]
    }
   ],
   "source": [
    "# 40. Write a program that generates a list of prime palindromic numbers using list comprehension.\n",
    "\n",
    "\n",
    "prime_palindromes = [num for num in range(10, 1000) if all(num % i != 0 for i in range(2, int(num**0.5) + 1)) and str(num) == str(num)[::-1]]\n",
    "\n",
    "print(\"Prime palindromic numbers up to 1000:\", prime_palindromes)\n"
   ]
  }
 ],
 "metadata": {
  "kernelspec": {
   "display_name": "Python 3 (ipykernel)",
   "language": "python",
   "name": "python3"
  },
  "language_info": {
   "codemirror_mode": {
    "name": "ipython",
    "version": 3
   },
   "file_extension": ".py",
   "mimetype": "text/x-python",
   "name": "python",
   "nbconvert_exporter": "python",
   "pygments_lexer": "ipython3",
   "version": "3.10.8"
  }
 },
 "nbformat": 4,
 "nbformat_minor": 5
}
